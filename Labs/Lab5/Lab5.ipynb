{
 "cells": [
  {
   "cell_type": "markdown",
   "metadata": {},
   "source": [
    "## Lab #5: Deep learning for genomics\n",
    "Friday, May 3rd\n",
    "\n",
    "Name: Matt Ploenzke"
   ]
  },
  {
   "cell_type": "markdown",
   "metadata": {},
   "source": [
    "### CNN training\n",
    "#### Problem formulation\n",
    "\n",
    "The popularity of deep learning methods for genomic applications has grown impressively over the past few years. While not quite to the level of computer vision, both computational methods and user APIs have been developed specifically for the application to DNA (and protein) sequence data. Recall in such cases each input observation is a string of nucleotides (or amino acids in the protein example). Although it is indeed interesting to incorporate additional streams of data, we will restrict ourselves to only using the nucleotide sequence and then use CNNs to learn about the sequences. \n",
    "\n",
    "Specifically, we will be using a simulated dataset to investigate a common use scenario which may arise from ChIP-seq experiments. The goal of a [ChIP-seq](https://en.wikipedia.org/wiki/ChIP-sequencing) experiment is to use DNA sequencing to identify DNA-binding sites of proteins/transcription factors (TFs) along the genome. These proteins have varying effects on the genome, such as promoting or suppressing gene expression or even determining how the genome is folded and thus which parts are accessible to transcription. The downstream consequences of differential binding due to these proteins across healthy and diseased individuals is an active area of research. All simulations were generated via the [learning sequence motifs](https://github.com/p-koo/learning_sequence_motifs) package.\n",
    "\n",
    "The details of the protocol are not important for this assignment. All you really need to know  is that each protein is relatively small (on the order of 6-18 base pairs in length) and exhibits preferential binding to certain consensus sequences. You may think of a single protein/TF somewhat like a lock and key: the protein preferentially binds (attaches) to the genome at locations where the pattern matches. ChIP is then used to locate those areas and DNA high-throughput sequencing yields the nucleotide sequences which were attached to the protein and for which we may then use as our input data. \n",
    "\n",
    "The consensus sequence that each protein looks for is referred to as a motif. Nine motifs are included in the simulation dataset and are provided below for reference. Conceptually, for a given motif pictured below, you may think of the height of the letter at a given position as the specificity of the protein binding to that nucleotide. For example, for the Arid3a motif, the protein would almost exclusively bind to the pattern **AT_AA_** where the first underscore is either a T or a C with equal probability, and the last position is either an A or T. ![Embedded motifs](img/lab_5_motifs.png)\n",
    "\n",
    "We will consider the case in which our collaborators have performed three different ChIP-seq experiments, each time *ChIP-ing* for a different protein (i.e. one of each protein from above), and provided us with a data file containing 200bp-length sequences called from each experiment. These are referred to as ChIP-seq peaks. For example, for the Arid3a ChIP-seq experiment, the sequences called will contain the Arid3a motif at some location within the 200 base-pairs. The actual nucleotide sequence of the realized motif in a given sequence will likely contain **AT_AA_** where the first underscore is either a T or a C with equal probability and the last position is either an A or T (note how this relates to above!). Additionally, a single peak may have been called in multiple experiments (Hint: class labels are not exclusive, consider how this will affect your loss function). Several example sequences are provided below, with the embedded motif visualized at its respective location within the observation. All other locations along the sequence are random genome background. Ideally our model will be able to learn these patterns.\n",
    "![Example sequences](img/lab_5_grammers.png)\n",
    "\n",
    "All reads (the nucleotide sequences) for the training, testing, and validation data have been joined in one file and the associated labels are provided as well. All data are stored in the lab_5_dataset.h5 object available on the canvas site. We will be training a CNN using the nucleotide sequences as input and the protein ChIP-ed for as the output label. We will then investigate what our model has learned. "
   ]
  },
  {
   "cell_type": "markdown",
   "metadata": {},
   "source": [
    "#### Train a CNN on simulation data"
   ]
  },
  {
   "cell_type": "markdown",
   "metadata": {},
   "source": [
    "Load the libraries."
   ]
  },
  {
   "cell_type": "code",
   "execution_count": 1,
   "metadata": {},
   "outputs": [
    {
     "name": "stderr",
     "output_type": "stream",
     "text": [
      "Using TensorFlow backend.\n"
     ]
    }
   ],
   "source": [
    "from __future__ import absolute_import\n",
    "from __future__ import division\n",
    "from __future__ import print_function\n",
    "\n",
    "import os, sys\n",
    "import numpy as np\n",
    "import matplotlib.pyplot as plt\n",
    "import keras\n",
    "import h5py"
   ]
  },
  {
   "cell_type": "markdown",
   "metadata": {},
   "source": [
    "Load the data. Note that we will not be using a data generator as we have in the past for image data. Therefore we may simply load each as a numpy array and then join them into a single dictionary. Each observation is already one-hot encoded."
   ]
  },
  {
   "cell_type": "code",
   "execution_count": 2,
   "metadata": {},
   "outputs": [
    {
     "name": "stdout",
     "output_type": "stream",
     "text": [
      "loading training data\n",
      "loading cross-validation data\n",
      "loading test data\n"
     ]
    }
   ],
   "source": [
    "# load dataset\n",
    "data_path = 'data/lab_5_dataset.h5'\n",
    "trainmat = h5py.File(data_path, 'r')\n",
    "\n",
    "print(\"loading training data\")\n",
    "X_train = np.array(trainmat['X_train']).astype(np.float32)\n",
    "y_train = np.array(trainmat['Y_train']).astype(np.float32)\n",
    "\n",
    "print(\"loading cross-validation data\")\n",
    "X_valid = np.array(trainmat['X_valid']).astype(np.float32)\n",
    "y_valid = np.array(trainmat['Y_valid']).astype(np.int32)\n",
    "\n",
    "print(\"loading test data\")\n",
    "X_test = np.array(trainmat['X_test']).astype(np.float32)\n",
    "y_test = np.array(trainmat['Y_test']).astype(np.int32)"
   ]
  },
  {
   "cell_type": "markdown",
   "metadata": {},
   "source": [
    "We need to permute the data arrays for keras to accept them. "
   ]
  },
  {
   "cell_type": "code",
   "execution_count": 3,
   "metadata": {},
   "outputs": [],
   "source": [
    "X_train = np.expand_dims(X_train, axis=3).transpose([0,2,3,1])\n",
    "X_valid = np.expand_dims(X_valid, axis=3).transpose([0,2,3,1])\n",
    "X_test = np.expand_dims(X_test, axis=3).transpose([0,2,3,1])\n",
    "\n",
    "train = {'inputs': X_train, 'targets': y_train}\n",
    "valid = {'inputs': X_valid, 'targets': y_valid}\n",
    "test = {'inputs': X_test, 'targets': y_test}"
   ]
  },
  {
   "cell_type": "markdown",
   "metadata": {},
   "source": [
    "How many observations are there in the training set? What is the length of each sequence? What does the last channel (fourth dimension) of a given batch of observation correspond to?"
   ]
  },
  {
   "cell_type": "code",
   "execution_count": 4,
   "metadata": {},
   "outputs": [
    {
     "name": "stdout",
     "output_type": "stream",
     "text": [
      "[17500, 200, 1, 4]\n",
      "[[[0. 0. 0. 1.]]\n",
      "\n",
      " [[0. 0. 1. 0.]]\n",
      "\n",
      " [[1. 0. 0. 0.]]\n",
      "\n",
      " [[0. 0. 0. 1.]]\n",
      "\n",
      " [[0. 0. 0. 1.]]\n",
      "\n",
      " [[0. 0. 0. 1.]]\n",
      "\n",
      " [[1. 0. 0. 0.]]\n",
      "\n",
      " [[1. 0. 0. 0.]]\n",
      "\n",
      " [[0. 0. 1. 0.]]\n",
      "\n",
      " [[1. 0. 0. 0.]]\n",
      "\n",
      " [[0. 0. 0. 1.]]\n",
      "\n",
      " [[1. 0. 0. 0.]]\n",
      "\n",
      " [[1. 0. 0. 0.]]\n",
      "\n",
      " [[0. 0. 0. 1.]]\n",
      "\n",
      " [[0. 0. 1. 0.]]\n",
      "\n",
      " [[0. 0. 0. 1.]]\n",
      "\n",
      " [[0. 1. 0. 0.]]\n",
      "\n",
      " [[1. 0. 0. 0.]]\n",
      "\n",
      " [[1. 0. 0. 0.]]\n",
      "\n",
      " [[1. 0. 0. 0.]]\n",
      "\n",
      " [[0. 0. 1. 0.]]\n",
      "\n",
      " [[0. 0. 0. 1.]]\n",
      "\n",
      " [[0. 0. 1. 0.]]\n",
      "\n",
      " [[1. 0. 0. 0.]]\n",
      "\n",
      " [[0. 0. 1. 0.]]\n",
      "\n",
      " [[0. 0. 1. 0.]]\n",
      "\n",
      " [[0. 1. 0. 0.]]\n",
      "\n",
      " [[0. 0. 1. 0.]]\n",
      "\n",
      " [[1. 0. 0. 0.]]\n",
      "\n",
      " [[1. 0. 0. 0.]]\n",
      "\n",
      " [[0. 1. 0. 0.]]\n",
      "\n",
      " [[0. 1. 0. 0.]]\n",
      "\n",
      " [[0. 0. 0. 1.]]\n",
      "\n",
      " [[0. 0. 0. 1.]]\n",
      "\n",
      " [[0. 0. 0. 1.]]\n",
      "\n",
      " [[1. 0. 0. 0.]]\n",
      "\n",
      " [[0. 0. 1. 0.]]\n",
      "\n",
      " [[0. 1. 0. 0.]]\n",
      "\n",
      " [[1. 0. 0. 0.]]\n",
      "\n",
      " [[1. 0. 0. 0.]]\n",
      "\n",
      " [[1. 0. 0. 0.]]\n",
      "\n",
      " [[0. 1. 0. 0.]]\n",
      "\n",
      " [[0. 1. 0. 0.]]\n",
      "\n",
      " [[0. 0. 1. 0.]]\n",
      "\n",
      " [[1. 0. 0. 0.]]\n",
      "\n",
      " [[0. 0. 0. 1.]]\n",
      "\n",
      " [[1. 0. 0. 0.]]\n",
      "\n",
      " [[0. 0. 1. 0.]]\n",
      "\n",
      " [[0. 1. 0. 0.]]\n",
      "\n",
      " [[0. 0. 0. 1.]]\n",
      "\n",
      " [[0. 0. 0. 1.]]\n",
      "\n",
      " [[0. 1. 0. 0.]]\n",
      "\n",
      " [[1. 0. 0. 0.]]\n",
      "\n",
      " [[0. 1. 0. 0.]]\n",
      "\n",
      " [[1. 0. 0. 0.]]\n",
      "\n",
      " [[0. 0. 1. 0.]]\n",
      "\n",
      " [[0. 1. 0. 0.]]\n",
      "\n",
      " [[0. 0. 1. 0.]]\n",
      "\n",
      " [[0. 1. 0. 0.]]\n",
      "\n",
      " [[0. 0. 0. 1.]]\n",
      "\n",
      " [[1. 0. 0. 0.]]\n",
      "\n",
      " [[0. 0. 1. 0.]]\n",
      "\n",
      " [[0. 0. 0. 1.]]\n",
      "\n",
      " [[1. 0. 0. 0.]]\n",
      "\n",
      " [[0. 0. 1. 0.]]\n",
      "\n",
      " [[0. 0. 1. 0.]]\n",
      "\n",
      " [[0. 0. 0. 1.]]\n",
      "\n",
      " [[1. 0. 0. 0.]]\n",
      "\n",
      " [[0. 0. 0. 1.]]\n",
      "\n",
      " [[0. 0. 0. 1.]]\n",
      "\n",
      " [[0. 0. 1. 0.]]\n",
      "\n",
      " [[0. 0. 0. 1.]]\n",
      "\n",
      " [[1. 0. 0. 0.]]\n",
      "\n",
      " [[1. 0. 0. 0.]]\n",
      "\n",
      " [[0. 0. 0. 1.]]\n",
      "\n",
      " [[0. 0. 1. 0.]]\n",
      "\n",
      " [[1. 0. 0. 0.]]\n",
      "\n",
      " [[0. 1. 0. 0.]]\n",
      "\n",
      " [[0. 0. 1. 0.]]\n",
      "\n",
      " [[1. 0. 0. 0.]]\n",
      "\n",
      " [[1. 0. 0. 0.]]\n",
      "\n",
      " [[0. 0. 1. 0.]]\n",
      "\n",
      " [[0. 0. 0. 1.]]\n",
      "\n",
      " [[0. 1. 0. 0.]]\n",
      "\n",
      " [[1. 0. 0. 0.]]\n",
      "\n",
      " [[0. 0. 1. 0.]]\n",
      "\n",
      " [[0. 1. 0. 0.]]\n",
      "\n",
      " [[1. 0. 0. 0.]]\n",
      "\n",
      " [[0. 1. 0. 0.]]\n",
      "\n",
      " [[1. 0. 0. 0.]]\n",
      "\n",
      " [[1. 0. 0. 0.]]\n",
      "\n",
      " [[1. 0. 0. 0.]]\n",
      "\n",
      " [[1. 0. 0. 0.]]\n",
      "\n",
      " [[1. 0. 0. 0.]]\n",
      "\n",
      " [[1. 0. 0. 0.]]\n",
      "\n",
      " [[0. 0. 1. 0.]]\n",
      "\n",
      " [[0. 0. 0. 1.]]\n",
      "\n",
      " [[0. 0. 1. 0.]]\n",
      "\n",
      " [[0. 0. 0. 1.]]\n",
      "\n",
      " [[0. 0. 1. 0.]]\n",
      "\n",
      " [[0. 0. 1. 0.]]\n",
      "\n",
      " [[0. 0. 1. 0.]]\n",
      "\n",
      " [[1. 0. 0. 0.]]\n",
      "\n",
      " [[0. 0. 1. 0.]]\n",
      "\n",
      " [[1. 0. 0. 0.]]\n",
      "\n",
      " [[0. 1. 0. 0.]]\n",
      "\n",
      " [[0. 0. 1. 0.]]\n",
      "\n",
      " [[0. 0. 1. 0.]]\n",
      "\n",
      " [[0. 0. 1. 0.]]\n",
      "\n",
      " [[0. 1. 0. 0.]]\n",
      "\n",
      " [[0. 0. 0. 1.]]\n",
      "\n",
      " [[0. 0. 1. 0.]]\n",
      "\n",
      " [[0. 0. 1. 0.]]\n",
      "\n",
      " [[1. 0. 0. 0.]]\n",
      "\n",
      " [[0. 1. 0. 0.]]\n",
      "\n",
      " [[0. 0. 1. 0.]]\n",
      "\n",
      " [[0. 1. 0. 0.]]\n",
      "\n",
      " [[0. 0. 1. 0.]]\n",
      "\n",
      " [[0. 0. 0. 1.]]\n",
      "\n",
      " [[0. 0. 1. 0.]]\n",
      "\n",
      " [[0. 0. 0. 1.]]\n",
      "\n",
      " [[0. 0. 0. 1.]]\n",
      "\n",
      " [[0. 0. 0. 1.]]\n",
      "\n",
      " [[0. 0. 0. 1.]]\n",
      "\n",
      " [[0. 0. 0. 1.]]\n",
      "\n",
      " [[0. 0. 1. 0.]]\n",
      "\n",
      " [[0. 0. 1. 0.]]\n",
      "\n",
      " [[0. 0. 0. 1.]]\n",
      "\n",
      " [[1. 0. 0. 0.]]\n",
      "\n",
      " [[1. 0. 0. 0.]]\n",
      "\n",
      " [[0. 1. 0. 0.]]\n",
      "\n",
      " [[0. 0. 0. 1.]]\n",
      "\n",
      " [[1. 0. 0. 0.]]\n",
      "\n",
      " [[1. 0. 0. 0.]]\n",
      "\n",
      " [[0. 0. 1. 0.]]\n",
      "\n",
      " [[0. 1. 0. 0.]]\n",
      "\n",
      " [[0. 0. 1. 0.]]\n",
      "\n",
      " [[0. 1. 0. 0.]]\n",
      "\n",
      " [[0. 1. 0. 0.]]\n",
      "\n",
      " [[0. 1. 0. 0.]]\n",
      "\n",
      " [[0. 0. 0. 1.]]\n",
      "\n",
      " [[1. 0. 0. 0.]]\n",
      "\n",
      " [[1. 0. 0. 0.]]\n",
      "\n",
      " [[0. 0. 1. 0.]]\n",
      "\n",
      " [[0. 1. 0. 0.]]\n",
      "\n",
      " [[0. 1. 0. 0.]]\n",
      "\n",
      " [[1. 0. 0. 0.]]\n",
      "\n",
      " [[0. 1. 0. 0.]]\n",
      "\n",
      " [[0. 1. 0. 0.]]\n",
      "\n",
      " [[1. 0. 0. 0.]]\n",
      "\n",
      " [[0. 0. 1. 0.]]\n",
      "\n",
      " [[0. 1. 0. 0.]]\n",
      "\n",
      " [[1. 0. 0. 0.]]\n",
      "\n",
      " [[0. 0. 1. 0.]]\n",
      "\n",
      " [[0. 0. 1. 0.]]\n",
      "\n",
      " [[0. 0. 0. 1.]]\n",
      "\n",
      " [[0. 0. 1. 0.]]\n",
      "\n",
      " [[0. 0. 1. 0.]]\n",
      "\n",
      " [[0. 1. 0. 0.]]\n",
      "\n",
      " [[0. 0. 1. 0.]]\n",
      "\n",
      " [[1. 0. 0. 0.]]\n",
      "\n",
      " [[0. 0. 0. 1.]]\n",
      "\n",
      " [[1. 0. 0. 0.]]\n",
      "\n",
      " [[0. 0. 0. 1.]]\n",
      "\n",
      " [[1. 0. 0. 0.]]\n",
      "\n",
      " [[0. 1. 0. 0.]]\n",
      "\n",
      " [[0. 0. 1. 0.]]\n",
      "\n",
      " [[1. 0. 0. 0.]]\n",
      "\n",
      " [[0. 1. 0. 0.]]\n",
      "\n",
      " [[0. 0. 0. 1.]]\n",
      "\n",
      " [[0. 0. 0. 1.]]\n",
      "\n",
      " [[0. 1. 0. 0.]]\n",
      "\n",
      " [[0. 1. 0. 0.]]\n",
      "\n",
      " [[0. 0. 0. 1.]]\n",
      "\n",
      " [[0. 1. 0. 0.]]\n",
      "\n",
      " [[0. 0. 1. 0.]]\n",
      "\n",
      " [[0. 1. 0. 0.]]\n",
      "\n",
      " [[0. 1. 0. 0.]]\n",
      "\n",
      " [[0. 0. 1. 0.]]\n",
      "\n",
      " [[1. 0. 0. 0.]]\n",
      "\n",
      " [[0. 0. 0. 1.]]\n",
      "\n",
      " [[0. 0. 0. 1.]]\n",
      "\n",
      " [[0. 0. 1. 0.]]\n",
      "\n",
      " [[1. 0. 0. 0.]]\n",
      "\n",
      " [[0. 0. 0. 1.]]\n",
      "\n",
      " [[0. 0. 0. 1.]]\n",
      "\n",
      " [[0. 0. 0. 1.]]\n",
      "\n",
      " [[0. 1. 0. 0.]]\n",
      "\n",
      " [[1. 0. 0. 0.]]\n",
      "\n",
      " [[0. 0. 0. 1.]]\n",
      "\n",
      " [[0. 1. 0. 0.]]\n",
      "\n",
      " [[0. 0. 0. 1.]]\n",
      "\n",
      " [[0. 0. 1. 0.]]\n",
      "\n",
      " [[0. 0. 0. 1.]]\n",
      "\n",
      " [[1. 0. 0. 0.]]\n",
      "\n",
      " [[0. 0. 1. 0.]]\n",
      "\n",
      " [[0. 0. 1. 0.]]\n",
      "\n",
      " [[1. 0. 0. 0.]]\n",
      "\n",
      " [[1. 0. 0. 0.]]\n",
      "\n",
      " [[0. 0. 1. 0.]]]\n"
     ]
    }
   ],
   "source": [
    "# get data shapes\n",
    "input_shape = list(train['inputs'].shape)\n",
    "print(input_shape)\n",
    "print(train['inputs'][0])"
   ]
  },
  {
   "cell_type": "markdown",
   "metadata": {},
   "source": [
    "What is the nucleotide sequence for the 50th observation? Hint: the column ordering is A, C, G, T. "
   ]
  },
  {
   "cell_type": "code",
   "execution_count": 5,
   "metadata": {},
   "outputs": [
    {
     "name": "stdout",
     "output_type": "stream",
     "text": [
      "['T', 'G', 'A', 'T', 'T', 'T', 'A', 'A', 'G', 'A', 'T', 'A', 'A', 'T', 'G', 'T', 'C', 'A', 'A', 'A', 'G', 'T', 'G', 'A', 'G', 'G', 'C', 'G', 'A', 'A', 'C', 'C', 'T', 'T', 'T', 'A', 'G', 'C', 'A', 'A', 'A', 'C', 'C', 'G', 'A', 'T', 'A', 'G', 'C', 'T', 'T', 'C', 'A', 'C', 'A', 'G', 'C', 'G', 'C', 'T', 'A', 'G', 'T', 'A', 'G', 'G', 'T', 'A', 'T', 'T', 'G', 'T', 'A', 'A', 'T', 'G', 'A', 'C', 'G', 'A', 'A', 'G', 'T', 'C', 'A', 'G', 'C', 'A', 'C', 'A', 'A', 'A', 'A', 'A', 'A', 'G', 'T', 'G', 'T', 'G', 'G', 'G', 'A', 'G', 'A', 'C', 'G', 'G', 'G', 'C', 'T', 'G', 'G', 'A', 'C', 'G', 'C', 'G', 'T', 'G', 'T', 'T', 'T', 'T', 'T', 'G', 'G', 'T', 'A', 'A', 'C', 'T', 'A', 'A', 'G', 'C', 'G', 'C', 'C', 'C', 'T', 'A', 'A', 'G', 'C', 'C', 'A', 'C', 'C', 'A', 'G', 'C', 'A', 'G', 'G', 'T', 'G', 'G', 'C', 'G', 'A', 'T', 'A', 'T', 'A', 'C', 'G', 'A', 'C', 'T', 'T', 'C', 'C', 'T', 'C', 'G', 'C', 'C', 'G', 'A', 'T', 'T', 'G', 'A', 'T', 'T', 'T', 'C', 'A', 'T', 'C', 'T', 'G', 'T', 'A', 'G', 'G', 'A', 'A', 'G']\n"
     ]
    }
   ],
   "source": [
    "#print(train['inputs'][0])\n",
    "myseq = []\n",
    "nucl = ['A','C','G','T']\n",
    "for i in range(train['inputs'][50].shape[0]):\n",
    "    curr_nucl = np.extract(train['inputs'][0][i]>0,nucl)\n",
    "    myseq.extend(curr_nucl)\n",
    "print(myseq)"
   ]
  },
  {
   "cell_type": "markdown",
   "metadata": {},
   "source": [
    "What is the output shape? Why or why not does this make sense considering the problem formulation above? "
   ]
  },
  {
   "cell_type": "code",
   "execution_count": 6,
   "metadata": {},
   "outputs": [
    {
     "name": "stdout",
     "output_type": "stream",
     "text": [
      "[200, 1, 4]\n",
      "3\n"
     ]
    }
   ],
   "source": [
    "input_shape = input_shape[1:]\n",
    "output_shape = train['targets'].shape[1]\n",
    "print(input_shape)\n",
    "print(output_shape)"
   ]
  },
  {
   "cell_type": "markdown",
   "metadata": {},
   "source": [
    "Now code up a CNN. Select the appropriate activation function for the last layer. Consider including regularization and pooling. "
   ]
  },
  {
   "cell_type": "code",
   "execution_count": 7,
   "metadata": {},
   "outputs": [
    {
     "name": "stdout",
     "output_type": "stream",
     "text": [
      "WARNING:tensorflow:From /usr/local/lib/python3.7/site-packages/tensorflow/python/framework/op_def_library.py:263: colocate_with (from tensorflow.python.framework.ops) is deprecated and will be removed in a future version.\n",
      "Instructions for updating:\n",
      "Colocations handled automatically by placer.\n",
      "_________________________________________________________________\n",
      "Layer (type)                 Output Shape              Param #   \n",
      "=================================================================\n",
      "conv2d_1 (Conv2D)            (None, 182, 1, 32)        2464      \n",
      "_________________________________________________________________\n",
      "max_pooling2d_1 (MaxPooling2 (None, 46, 1, 32)         0         \n",
      "_________________________________________________________________\n",
      "conv2d_2 (Conv2D)            (None, 39, 1, 16)         4112      \n",
      "_________________________________________________________________\n",
      "max_pooling2d_2 (MaxPooling2 (None, 5, 1, 16)          0         \n",
      "_________________________________________________________________\n",
      "flatten_1 (Flatten)          (None, 80)                0         \n",
      "_________________________________________________________________\n",
      "dense_1 (Dense)              (None, 128)               10368     \n",
      "_________________________________________________________________\n",
      "dense_2 (Dense)              (None, 3)                 387       \n",
      "=================================================================\n",
      "Total params: 17,331\n",
      "Trainable params: 17,331\n",
      "Non-trainable params: 0\n",
      "_________________________________________________________________\n"
     ]
    }
   ],
   "source": [
    "from keras import layers\n",
    "from keras import models\n",
    "\n",
    "model = models.Sequential()\n",
    "model.add(layers.Conv2D(32,(19,1), activation='relu',input_shape = input_shape,use_bias=True))\n",
    "model.add(layers.MaxPooling2D(1,4))\n",
    "model.add(layers.Conv2D(16,(8,1), activation='relu', use_bias=True))\n",
    "model.add(layers.MaxPooling2D(1,8))\n",
    "model.add(layers.Flatten())\n",
    "model.add(layers.Dense(128, activation='relu'))\n",
    "model.add(layers.Dense(output_shape, activation='sigmoid'))\n",
    "model.summary()"
   ]
  },
  {
   "cell_type": "markdown",
   "metadata": {},
   "source": [
    "Compile your model selecting the appropriate loss function and metric."
   ]
  },
  {
   "cell_type": "code",
   "execution_count": 8,
   "metadata": {},
   "outputs": [],
   "source": [
    "from keras import optimizers\n",
    "model.compile(loss='binary_crossentropy',\n",
    "             optimizer=optimizers.RMSprop(lr=1e-4),\n",
    "             metrics=['acc'])"
   ]
  },
  {
   "cell_type": "markdown",
   "metadata": {},
   "source": [
    "Train your model for a suitable number of epochs."
   ]
  },
  {
   "cell_type": "code",
   "execution_count": 9,
   "metadata": {},
   "outputs": [
    {
     "name": "stdout",
     "output_type": "stream",
     "text": [
      "WARNING:tensorflow:From /usr/local/lib/python3.7/site-packages/tensorflow/python/ops/math_ops.py:3066: to_int32 (from tensorflow.python.ops.math_ops) is deprecated and will be removed in a future version.\n",
      "Instructions for updating:\n",
      "Use tf.cast instead.\n",
      "Train on 17500 samples, validate on 2500 samples\n",
      "Epoch 1/100\n",
      "17500/17500 [==============================] - 6s 350us/step - loss: 0.6928 - acc: 0.5124 - val_loss: 0.6925 - val_acc: 0.5132\n",
      "Epoch 2/100\n",
      "17500/17500 [==============================] - 6s 355us/step - loss: 0.6902 - acc: 0.5324 - val_loss: 0.6891 - val_acc: 0.5379\n",
      "Epoch 3/100\n",
      "17500/17500 [==============================] - 6s 347us/step - loss: 0.6823 - acc: 0.5691 - val_loss: 0.6779 - val_acc: 0.5751\n",
      "Epoch 4/100\n",
      "17500/17500 [==============================] - 5s 305us/step - loss: 0.6686 - acc: 0.5925 - val_loss: 0.6685 - val_acc: 0.5865\n",
      "Epoch 5/100\n",
      "17500/17500 [==============================] - 5s 306us/step - loss: 0.6599 - acc: 0.6006 - val_loss: 0.6625 - val_acc: 0.5977\n",
      "Epoch 6/100\n",
      "17500/17500 [==============================] - 6s 316us/step - loss: 0.6562 - acc: 0.6050 - val_loss: 0.6613 - val_acc: 0.5985\n",
      "Epoch 7/100\n",
      "17500/17500 [==============================] - 6s 349us/step - loss: 0.6537 - acc: 0.6079 - val_loss: 0.6613 - val_acc: 0.5935\n",
      "Epoch 8/100\n",
      "17500/17500 [==============================] - 6s 333us/step - loss: 0.6519 - acc: 0.6093 - val_loss: 0.6583 - val_acc: 0.5983\n",
      "Epoch 9/100\n",
      "17500/17500 [==============================] - 6s 354us/step - loss: 0.6502 - acc: 0.6114 - val_loss: 0.6566 - val_acc: 0.6039\n",
      "Epoch 10/100\n",
      "17500/17500 [==============================] - 6s 367us/step - loss: 0.6485 - acc: 0.6127 - val_loss: 0.6609 - val_acc: 0.5999\n",
      "Epoch 11/100\n",
      "17500/17500 [==============================] - 6s 338us/step - loss: 0.6465 - acc: 0.6159 - val_loss: 0.6549 - val_acc: 0.6083\n",
      "Epoch 12/100\n",
      "17500/17500 [==============================] - 6s 359us/step - loss: 0.6448 - acc: 0.6170 - val_loss: 0.6528 - val_acc: 0.6137\n",
      "Epoch 13/100\n",
      "17500/17500 [==============================] - 6s 334us/step - loss: 0.6428 - acc: 0.6211 - val_loss: 0.6519 - val_acc: 0.6047\n",
      "Epoch 14/100\n",
      "17500/17500 [==============================] - 6s 339us/step - loss: 0.6407 - acc: 0.6242 - val_loss: 0.6501 - val_acc: 0.6127\n",
      "Epoch 15/100\n",
      "17500/17500 [==============================] - 7s 396us/step - loss: 0.6388 - acc: 0.6264 - val_loss: 0.6517 - val_acc: 0.6063\n",
      "Epoch 16/100\n",
      "17500/17500 [==============================] - 6s 353us/step - loss: 0.6366 - acc: 0.6283 - val_loss: 0.6501 - val_acc: 0.6103\n",
      "Epoch 17/100\n",
      "17500/17500 [==============================] - 6s 364us/step - loss: 0.6341 - acc: 0.6310 - val_loss: 0.6462 - val_acc: 0.6168\n",
      "Epoch 18/100\n",
      "17500/17500 [==============================] - 6s 355us/step - loss: 0.6317 - acc: 0.6348 - val_loss: 0.6471 - val_acc: 0.6167\n",
      "Epoch 19/100\n",
      "17500/17500 [==============================] - 6s 355us/step - loss: 0.6290 - acc: 0.6373 - val_loss: 0.6429 - val_acc: 0.6220\n",
      "Epoch 20/100\n",
      "17500/17500 [==============================] - 6s 363us/step - loss: 0.6262 - acc: 0.6424 - val_loss: 0.6401 - val_acc: 0.6219\n",
      "Epoch 21/100\n",
      "17500/17500 [==============================] - 6s 355us/step - loss: 0.6235 - acc: 0.6432 - val_loss: 0.6378 - val_acc: 0.6255\n",
      "Epoch 22/100\n",
      "17500/17500 [==============================] - 6s 359us/step - loss: 0.6204 - acc: 0.6488 - val_loss: 0.6388 - val_acc: 0.6303\n",
      "Epoch 23/100\n",
      "17500/17500 [==============================] - 6s 359us/step - loss: 0.6170 - acc: 0.6515 - val_loss: 0.6343 - val_acc: 0.6268\n",
      "Epoch 24/100\n",
      "17500/17500 [==============================] - 6s 358us/step - loss: 0.6133 - acc: 0.6543 - val_loss: 0.6353 - val_acc: 0.6263\n",
      "Epoch 25/100\n",
      "17500/17500 [==============================] - 6s 358us/step - loss: 0.6100 - acc: 0.6591 - val_loss: 0.6319 - val_acc: 0.6352\n",
      "Epoch 26/100\n",
      "17500/17500 [==============================] - 6s 356us/step - loss: 0.6064 - acc: 0.6622 - val_loss: 0.6251 - val_acc: 0.6344\n",
      "Epoch 27/100\n",
      "17500/17500 [==============================] - 6s 361us/step - loss: 0.6024 - acc: 0.6652 - val_loss: 0.6316 - val_acc: 0.6332\n",
      "Epoch 28/100\n",
      "17500/17500 [==============================] - 6s 358us/step - loss: 0.5992 - acc: 0.6681 - val_loss: 0.6217 - val_acc: 0.6403\n",
      "Epoch 29/100\n",
      "17500/17500 [==============================] - 6s 356us/step - loss: 0.5956 - acc: 0.6720 - val_loss: 0.6210 - val_acc: 0.6419\n",
      "Epoch 30/100\n",
      "17500/17500 [==============================] - 6s 358us/step - loss: 0.5919 - acc: 0.6743 - val_loss: 0.6219 - val_acc: 0.6385\n",
      "Epoch 31/100\n",
      "17500/17500 [==============================] - 7s 375us/step - loss: 0.5889 - acc: 0.6773 - val_loss: 0.6142 - val_acc: 0.6445\n",
      "Epoch 32/100\n",
      "17500/17500 [==============================] - 6s 355us/step - loss: 0.5855 - acc: 0.6802 - val_loss: 0.6198 - val_acc: 0.6419\n",
      "Epoch 33/100\n",
      "17500/17500 [==============================] - 6s 358us/step - loss: 0.5825 - acc: 0.6819 - val_loss: 0.6145 - val_acc: 0.6460\n",
      "Epoch 34/100\n",
      "17500/17500 [==============================] - 6s 357us/step - loss: 0.5798 - acc: 0.6848 - val_loss: 0.6088 - val_acc: 0.6484\n",
      "Epoch 35/100\n",
      "17500/17500 [==============================] - 6s 349us/step - loss: 0.5768 - acc: 0.6875 - val_loss: 0.6174 - val_acc: 0.6453\n",
      "Epoch 36/100\n",
      "17500/17500 [==============================] - 6s 353us/step - loss: 0.5743 - acc: 0.6902 - val_loss: 0.6076 - val_acc: 0.6541\n",
      "Epoch 37/100\n",
      "17500/17500 [==============================] - 6s 346us/step - loss: 0.5720 - acc: 0.6913 - val_loss: 0.6041 - val_acc: 0.6560\n",
      "Epoch 38/100\n",
      "17500/17500 [==============================] - 6s 357us/step - loss: 0.5691 - acc: 0.6937 - val_loss: 0.6102 - val_acc: 0.6564\n",
      "Epoch 39/100\n",
      "17500/17500 [==============================] - 6s 345us/step - loss: 0.5667 - acc: 0.6946 - val_loss: 0.6192 - val_acc: 0.6492\n",
      "Epoch 40/100\n",
      "17500/17500 [==============================] - 6s 344us/step - loss: 0.5643 - acc: 0.6961 - val_loss: 0.6125 - val_acc: 0.6504\n",
      "Epoch 41/100\n",
      "17500/17500 [==============================] - 6s 360us/step - loss: 0.5615 - acc: 0.6984 - val_loss: 0.6027 - val_acc: 0.6604\n",
      "Epoch 42/100\n",
      "17500/17500 [==============================] - 6s 352us/step - loss: 0.5592 - acc: 0.7004 - val_loss: 0.5981 - val_acc: 0.6628\n",
      "Epoch 43/100\n",
      "17500/17500 [==============================] - 6s 350us/step - loss: 0.5571 - acc: 0.7014 - val_loss: 0.5964 - val_acc: 0.6651\n",
      "Epoch 44/100\n",
      "17500/17500 [==============================] - 6s 345us/step - loss: 0.5544 - acc: 0.7049 - val_loss: 0.5970 - val_acc: 0.6673\n",
      "Epoch 45/100\n",
      "17500/17500 [==============================] - 6s 344us/step - loss: 0.5523 - acc: 0.7054 - val_loss: 0.5978 - val_acc: 0.6653\n",
      "Epoch 46/100\n",
      "17500/17500 [==============================] - 6s 360us/step - loss: 0.5495 - acc: 0.7072 - val_loss: 0.5988 - val_acc: 0.6676\n",
      "Epoch 47/100\n",
      "17500/17500 [==============================] - 6s 344us/step - loss: 0.5476 - acc: 0.7095 - val_loss: 0.5917 - val_acc: 0.6700\n",
      "Epoch 48/100\n",
      "17500/17500 [==============================] - 6s 353us/step - loss: 0.5453 - acc: 0.7110 - val_loss: 0.5888 - val_acc: 0.6699\n",
      "Epoch 49/100\n",
      "17500/17500 [==============================] - 6s 349us/step - loss: 0.5430 - acc: 0.7113 - val_loss: 0.5874 - val_acc: 0.6735\n",
      "Epoch 50/100\n",
      "17500/17500 [==============================] - 6s 344us/step - loss: 0.5409 - acc: 0.7145 - val_loss: 0.5931 - val_acc: 0.6691\n",
      "Epoch 51/100\n",
      "17500/17500 [==============================] - 6s 357us/step - loss: 0.5383 - acc: 0.7158 - val_loss: 0.5855 - val_acc: 0.6768\n",
      "Epoch 52/100\n",
      "17500/17500 [==============================] - 6s 345us/step - loss: 0.5364 - acc: 0.7187 - val_loss: 0.5826 - val_acc: 0.6740\n",
      "Epoch 53/100\n",
      "17500/17500 [==============================] - 6s 345us/step - loss: 0.5336 - acc: 0.7197 - val_loss: 0.5934 - val_acc: 0.6752\n",
      "Epoch 54/100\n",
      "17500/17500 [==============================] - 6s 350us/step - loss: 0.5317 - acc: 0.7202 - val_loss: 0.5804 - val_acc: 0.6784\n",
      "Epoch 55/100\n",
      "17500/17500 [==============================] - 6s 347us/step - loss: 0.5295 - acc: 0.7242 - val_loss: 0.5862 - val_acc: 0.6776\n",
      "Epoch 56/100\n",
      "17500/17500 [==============================] - 6s 354us/step - loss: 0.5275 - acc: 0.7241 - val_loss: 0.5769 - val_acc: 0.6791\n",
      "Epoch 57/100\n"
     ]
    },
    {
     "name": "stdout",
     "output_type": "stream",
     "text": [
      "17500/17500 [==============================] - 6s 320us/step - loss: 0.5253 - acc: 0.7256 - val_loss: 0.5784 - val_acc: 0.6825\n",
      "Epoch 58/100\n",
      "17500/17500 [==============================] - 6s 317us/step - loss: 0.5231 - acc: 0.7276 - val_loss: 0.5785 - val_acc: 0.6829\n",
      "Epoch 59/100\n",
      "17500/17500 [==============================] - 6s 322us/step - loss: 0.5211 - acc: 0.7286 - val_loss: 0.5730 - val_acc: 0.6840\n",
      "Epoch 60/100\n",
      "17500/17500 [==============================] - 6s 318us/step - loss: 0.5190 - acc: 0.7320 - val_loss: 0.5757 - val_acc: 0.6856\n",
      "Epoch 61/100\n",
      "17500/17500 [==============================] - 6s 328us/step - loss: 0.5170 - acc: 0.7324 - val_loss: 0.5778 - val_acc: 0.6815\n",
      "Epoch 62/100\n",
      "17500/17500 [==============================] - 6s 325us/step - loss: 0.5145 - acc: 0.7338 - val_loss: 0.5698 - val_acc: 0.6865\n",
      "Epoch 63/100\n",
      "17500/17500 [==============================] - 6s 323us/step - loss: 0.5129 - acc: 0.7369 - val_loss: 0.5697 - val_acc: 0.6887\n",
      "Epoch 64/100\n",
      "17500/17500 [==============================] - 6s 323us/step - loss: 0.5111 - acc: 0.7378 - val_loss: 0.5708 - val_acc: 0.6893\n",
      "Epoch 65/100\n",
      "17500/17500 [==============================] - 6s 319us/step - loss: 0.5092 - acc: 0.7381 - val_loss: 0.5702 - val_acc: 0.6864\n",
      "Epoch 66/100\n",
      "17500/17500 [==============================] - 6s 327us/step - loss: 0.5072 - acc: 0.7406 - val_loss: 0.5683 - val_acc: 0.6904\n",
      "Epoch 67/100\n",
      "17500/17500 [==============================] - 6s 324us/step - loss: 0.5055 - acc: 0.7413 - val_loss: 0.5663 - val_acc: 0.6940\n",
      "Epoch 68/100\n",
      "17500/17500 [==============================] - 6s 318us/step - loss: 0.5033 - acc: 0.7431 - val_loss: 0.5688 - val_acc: 0.6935\n",
      "Epoch 69/100\n",
      "17500/17500 [==============================] - 6s 321us/step - loss: 0.5017 - acc: 0.7432 - val_loss: 0.5663 - val_acc: 0.6935\n",
      "Epoch 70/100\n",
      "17500/17500 [==============================] - 6s 323us/step - loss: 0.4998 - acc: 0.7445 - val_loss: 0.5765 - val_acc: 0.6901\n",
      "Epoch 71/100\n",
      "17500/17500 [==============================] - 6s 322us/step - loss: 0.4981 - acc: 0.7463 - val_loss: 0.5611 - val_acc: 0.6963\n",
      "Epoch 72/100\n",
      "17500/17500 [==============================] - 6s 329us/step - loss: 0.4962 - acc: 0.7476 - val_loss: 0.5627 - val_acc: 0.6964\n",
      "Epoch 73/100\n",
      "17500/17500 [==============================] - 6s 320us/step - loss: 0.4945 - acc: 0.7496 - val_loss: 0.5634 - val_acc: 0.6968\n",
      "Epoch 74/100\n",
      "17500/17500 [==============================] - 6s 321us/step - loss: 0.4928 - acc: 0.7516 - val_loss: 0.5624 - val_acc: 0.6969\n",
      "Epoch 75/100\n",
      "17500/17500 [==============================] - 6s 323us/step - loss: 0.4911 - acc: 0.7523 - val_loss: 0.5563 - val_acc: 0.7029\n",
      "Epoch 76/100\n",
      "17500/17500 [==============================] - 6s 320us/step - loss: 0.4893 - acc: 0.7538 - val_loss: 0.5601 - val_acc: 0.7012\n",
      "Epoch 77/100\n",
      "17500/17500 [==============================] - 6s 340us/step - loss: 0.4877 - acc: 0.7549 - val_loss: 0.5602 - val_acc: 0.7016\n",
      "Epoch 78/100\n",
      "17500/17500 [==============================] - 6s 321us/step - loss: 0.4859 - acc: 0.7552 - val_loss: 0.5568 - val_acc: 0.7055\n",
      "Epoch 79/100\n",
      "17500/17500 [==============================] - 6s 322us/step - loss: 0.4846 - acc: 0.7566 - val_loss: 0.5545 - val_acc: 0.7060\n",
      "Epoch 80/100\n",
      "17500/17500 [==============================] - 6s 323us/step - loss: 0.4828 - acc: 0.7586 - val_loss: 0.5652 - val_acc: 0.7012\n",
      "Epoch 81/100\n",
      "17500/17500 [==============================] - 6s 321us/step - loss: 0.4813 - acc: 0.7582 - val_loss: 0.5553 - val_acc: 0.7080\n",
      "Epoch 82/100\n",
      "17500/17500 [==============================] - 6s 330us/step - loss: 0.4797 - acc: 0.7612 - val_loss: 0.5523 - val_acc: 0.7124\n",
      "Epoch 83/100\n",
      "17500/17500 [==============================] - 6s 326us/step - loss: 0.4784 - acc: 0.7621 - val_loss: 0.5520 - val_acc: 0.7104\n",
      "Epoch 84/100\n",
      "17500/17500 [==============================] - 6s 327us/step - loss: 0.4765 - acc: 0.7628 - val_loss: 0.5659 - val_acc: 0.7021\n",
      "Epoch 85/100\n",
      "17500/17500 [==============================] - 6s 327us/step - loss: 0.4756 - acc: 0.7627 - val_loss: 0.5521 - val_acc: 0.7128\n",
      "Epoch 86/100\n",
      "17500/17500 [==============================] - 6s 324us/step - loss: 0.4738 - acc: 0.7647 - val_loss: 0.5582 - val_acc: 0.7051\n",
      "Epoch 87/100\n",
      "17500/17500 [==============================] - 6s 322us/step - loss: 0.4719 - acc: 0.7652 - val_loss: 0.5505 - val_acc: 0.7121\n",
      "Epoch 88/100\n",
      "17500/17500 [==============================] - 6s 329us/step - loss: 0.4704 - acc: 0.7663 - val_loss: 0.5556 - val_acc: 0.7071\n",
      "Epoch 89/100\n",
      "17500/17500 [==============================] - 6s 322us/step - loss: 0.4693 - acc: 0.7680 - val_loss: 0.5470 - val_acc: 0.7137\n",
      "Epoch 90/100\n",
      "17500/17500 [==============================] - 6s 320us/step - loss: 0.4678 - acc: 0.7704 - val_loss: 0.5453 - val_acc: 0.7149\n",
      "Epoch 91/100\n",
      "17500/17500 [==============================] - 6s 325us/step - loss: 0.4662 - acc: 0.7702 - val_loss: 0.5456 - val_acc: 0.7151\n",
      "Epoch 92/100\n",
      "17500/17500 [==============================] - 6s 321us/step - loss: 0.4647 - acc: 0.7711 - val_loss: 0.5520 - val_acc: 0.7121\n",
      "Epoch 93/100\n",
      "17500/17500 [==============================] - 6s 338us/step - loss: 0.4637 - acc: 0.7723 - val_loss: 0.5589 - val_acc: 0.7097\n",
      "Epoch 94/100\n",
      "17500/17500 [==============================] - 6s 323us/step - loss: 0.4626 - acc: 0.7727 - val_loss: 0.5510 - val_acc: 0.7124\n",
      "Epoch 95/100\n",
      "17500/17500 [==============================] - 6s 321us/step - loss: 0.4607 - acc: 0.7743 - val_loss: 0.5488 - val_acc: 0.7121\n",
      "Epoch 96/100\n",
      "17500/17500 [==============================] - 6s 321us/step - loss: 0.4592 - acc: 0.7758 - val_loss: 0.5485 - val_acc: 0.7157\n",
      "Epoch 97/100\n",
      "17500/17500 [==============================] - 6s 323us/step - loss: 0.4583 - acc: 0.7753 - val_loss: 0.5423 - val_acc: 0.7185\n",
      "Epoch 98/100\n",
      "17500/17500 [==============================] - 6s 327us/step - loss: 0.4569 - acc: 0.7767 - val_loss: 0.5421 - val_acc: 0.7189\n",
      "Epoch 99/100\n",
      "17500/17500 [==============================] - 6s 320us/step - loss: 0.4557 - acc: 0.7777 - val_loss: 0.5411 - val_acc: 0.7201\n",
      "Epoch 100/100\n",
      "17500/17500 [==============================] - 6s 325us/step - loss: 0.4541 - acc: 0.7782 - val_loss: 0.5483 - val_acc: 0.7169\n"
     ]
    }
   ],
   "source": [
    "history = model.fit(train['inputs'], train['targets'], epochs=100, batch_size=64,\n",
    "         validation_data = (valid['inputs'],valid['targets']),\n",
    "         shuffle=True)"
   ]
  },
  {
   "cell_type": "markdown",
   "metadata": {},
   "source": [
    "Plot the training and validation accuracy and loss. How can you tell your model was trained for long enough? Provide an approximate epoch number denoting which training step you would choose for your final model."
   ]
  },
  {
   "cell_type": "code",
   "execution_count": 10,
   "metadata": {},
   "outputs": [
    {
     "data": {
      "image/png": "[encoded data removed]",
      "text/plain": [
       "<Figure size 432x288 with 1 Axes>"
      ]
     },
     "metadata": {
      "needs_background": "light"
     },
     "output_type": "display_data"
    },
    {
     "data": {
      "image/png": "[encoded data removed]",
      "text/plain": [
       "<Figure size 432x288 with 1 Axes>"
      ]
     },
     "metadata": {
      "needs_background": "light"
     },
     "output_type": "display_data"
    }
   ],
   "source": [
    "# Plot training & validation accuracy values\n",
    "plt.plot(history.history['acc'])\n",
    "plt.plot(history.history['val_acc'])\n",
    "plt.title('Model accuracy')\n",
    "plt.ylabel('Accuracy')\n",
    "plt.xlabel('Epoch')\n",
    "plt.legend(['Train', 'Validation'], loc='upper left')\n",
    "plt.show()\n",
    "\n",
    "# Plot training & validation loss values\n",
    "plt.plot(history.history['loss'])\n",
    "plt.plot(history.history['val_loss'])\n",
    "plt.title('Model loss')\n",
    "plt.ylabel('Loss')\n",
    "plt.xlabel('Epoch')\n",
    "plt.legend(['Train', 'Validation'], loc='upper left')\n",
    "plt.show()"
   ]
  },
  {
   "cell_type": "markdown",
   "metadata": {},
   "source": [
    "Save the model as a .h5 file."
   ]
  },
  {
   "cell_type": "code",
   "execution_count": 13,
   "metadata": {},
   "outputs": [],
   "source": [
    "model.save('my_model.h5')"
   ]
  },
  {
   "cell_type": "markdown",
   "metadata": {},
   "source": [
    "### Question 2 - (10 points)\n",
    "#### Understanding what your model has learned\n",
    "\n",
    "CNNs are often described as black boxes however that is not necessarily the case. Various methods have been developed which open up the black box. In class we looked at using the activation values from the convolutional filters and interpreting them as feature learners. In this question you will be using backpropagation methods, also referred to as saliency maps, to peer inside the box.\n",
    "\n",
    "Begin by installing deeplift with your package manager (i.e. pip install deeplift). Import the module. Please see [deeplift](https://github.com/kundajelab/deeplift) for additional instructions and the [paper](https://arxiv.org/abs/1704.02685) for details on the algorithm."
   ]
  },
  {
   "cell_type": "code",
   "execution_count": 14,
   "metadata": {},
   "outputs": [],
   "source": [
    "import deeplift\n",
    "from deeplift.conversion import kerasapi_conversion as kc"
   ]
  },
  {
   "cell_type": "markdown",
   "metadata": {},
   "source": [
    "Load the model saved in Question 1. Use the `kc.convert_model_from_saved_files` function to convert the model into the necessary format for deeplift and use default options provided in lab (`nonlinear_mxts_mode=deeplift.layers.NonlinearMxtsMode.DeepLIFT_GenomicsDefault`)."
   ]
  },
  {
   "cell_type": "code",
   "execution_count": 15,
   "metadata": {},
   "outputs": [
    {
     "name": "stdout",
     "output_type": "stream",
     "text": [
      "nonlinear_mxts_mode is set to: DeepLIFT_GenomicsDefault\n",
      "For layer 0 the preceding linear layer is preact_0 of type Conv2D;\n",
      "In accordance with nonlinear_mxts_mode=DeepLIFT_GenomicsDefault we are setting the NonlinearMxtsMode to Rescale\n",
      "Heads-up: current implementation assumes maxpool layer is followed by a linear transformation (conv/dense layer)\n",
      "For layer 2 the preceding linear layer is preact_2 of type Conv2D;\n",
      "In accordance with nonlinear_mxts_mode=DeepLIFT_GenomicsDefault we are setting the NonlinearMxtsMode to Rescale\n",
      "Heads-up: current implementation assumes maxpool layer is followed by a linear transformation (conv/dense layer)\n",
      "For layer 5 the preceding linear layer is preact_5 of type Dense;\n",
      "In accordance with nonlinear_mxts_modeDeepLIFT_GenomicsDefault we are setting the NonlinearMxtsMode to RevealCancel\n",
      "Heads-up: I assume sigmoid is the output layer, not an intermediate one; if it's an intermediate layer then please bug me and I will implement the grad func\n",
      "For layer 6 the preceding linear layer is preact_6 of type Dense;\n",
      "In accordance with nonlinear_mxts_modeDeepLIFT_GenomicsDefault we are setting the NonlinearMxtsMode to RevealCancel\n"
     ]
    }
   ],
   "source": [
    "deeplift_model =\\\n",
    "    kc.convert_model_from_saved_files(\n",
    "        'my_model.h5',\n",
    "        nonlinear_mxts_mode=deeplift.layers.NonlinearMxtsMode.DeepLIFT_GenomicsDefault) "
   ]
  },
  {
   "cell_type": "markdown",
   "metadata": {},
   "source": [
    "Print the layers of your model using the `.get_layers()` method."
   ]
  },
  {
   "cell_type": "code",
   "execution_count": 16,
   "metadata": {},
   "outputs": [
    {
     "data": {
      "text/plain": [
       "[<deeplift.layers.core.Input at 0x1438cb400>,\n",
       " <deeplift.layers.convolutional.Conv2D at 0x12f77a1d0>,\n",
       " <deeplift.layers.activations.ReLU at 0x12f767ef0>,\n",
       " <deeplift.layers.pooling.MaxPool2D at 0x12f77a080>,\n",
       " <deeplift.layers.convolutional.Conv2D at 0x12f77a2b0>,\n",
       " <deeplift.layers.activations.ReLU at 0x12f77a198>,\n",
       " <deeplift.layers.pooling.MaxPool2D at 0x12f77a240>,\n",
       " <deeplift.layers.core.Flatten at 0x12f77a390>,\n",
       " <deeplift.layers.core.Dense at 0x12f77a438>,\n",
       " <deeplift.layers.activations.ReLU at 0x12f77a400>,\n",
       " <deeplift.layers.core.Dense at 0x12f77a4e0>,\n",
       " <deeplift.layers.activations.Sigmoid at 0x12f77a4a8>]"
      ]
     },
     "execution_count": 16,
     "metadata": {},
     "output_type": "execute_result"
    }
   ],
   "source": [
    "deeplift_model.get_layers()"
   ]
  },
  {
   "cell_type": "markdown",
   "metadata": {},
   "source": [
    "Using the output from the previous question, determine the index for the input layer. This will be the layer you would like to view the importance scores for. In this homework please choose the input layer but in your own research any layer may be used so feel free to experiment with others! \n",
    "\n",
    "Also determine the index for the pre-activation output layer. Hint: This will almost surely be a dense layer. In python you may index to the last item in a list by indexing with -1. How would you get to the second to last item? "
   ]
  },
  {
   "cell_type": "code",
   "execution_count": 17,
   "metadata": {},
   "outputs": [],
   "source": [
    "find_scores_layer_idx = 0\n",
    "output_scores_layer_idx = -2"
   ]
  },
  {
   "cell_type": "markdown",
   "metadata": {},
   "source": [
    "Now use the `get_target_contribs_func` method to calculate the contribution function for your input and output layers. This uses the model architecture of your CNN to define a function which may be used to calculate the importance scores for given observations and tasks (output channels). "
   ]
  },
  {
   "cell_type": "code",
   "execution_count": 18,
   "metadata": {},
   "outputs": [],
   "source": [
    "deeplift_contribs_func = deeplift_model.get_target_contribs_func(\n",
    "                            find_scores_layer_idx=find_scores_layer_idx,\n",
    "                            target_layer_idx=output_scores_layer_idx)"
   ]
  },
  {
   "cell_type": "markdown",
   "metadata": {},
   "source": [
    "Define the output you would like to visualize importance scores for. Also, define a reference sequence based on genome background if desired."
   ]
  },
  {
   "cell_type": "code",
   "execution_count": 19,
   "metadata": {},
   "outputs": [],
   "source": [
    "output_class = 0\n",
    "reference = np.array([.3,.2,.2,.3])[None,None,:]\n"
   ]
  },
  {
   "cell_type": "markdown",
   "metadata": {},
   "source": [
    "Lastly, calculate the feature importance scores for a given `task_idx` (the output class). Specify your batch size and input data. Why is it important to use your testing data?"
   ]
  },
  {
   "cell_type": "code",
   "execution_count": 20,
   "metadata": {},
   "outputs": [
    {
     "name": "stdout",
     "output_type": "stream",
     "text": [
      "Done 0\n",
      "Done 1000\n",
      "Done 2000\n",
      "Done 3000\n",
      "Done 4000\n"
     ]
    }
   ],
   "source": [
    "scores = np.array(deeplift_contribs_func(task_idx=output_class,\n",
    "                                         input_data_list=[test['inputs']],\n",
    "                                         batch_size=100,\n",
    "                                         progress_update=1000,\n",
    "                                        input_references_list=[reference]))"
   ]
  },
  {
   "cell_type": "markdown",
   "metadata": {},
   "source": [
    "And finally, visualize the importance scores for a given sequence. Make sure the sequence you visualize contains the motif corresponding to the `task_idx` you specified above. What do you notice about what your model has learned?"
   ]
  },
  {
   "cell_type": "code",
   "execution_count": 21,
   "metadata": {},
   "outputs": [],
   "source": [
    "#visualize scores\n",
    "%matplotlib inline\n",
    "from deeplift.visualization import viz_sequence\n",
    "idxs = np.argwhere(test['targets'][:,output_class]==1)\n",
    "idx = idxs[1]"
   ]
  },
  {
   "cell_type": "code",
   "execution_count": 22,
   "metadata": {},
   "outputs": [
    {
     "data": {
      "image/png": "[encoded data removed]",
      "text/plain": [
       "<Figure size 1440x144 with 1 Axes>"
      ]
     },
     "metadata": {
      "needs_background": "light"
     },
     "output_type": "display_data"
    }
   ],
   "source": [
    "scores_for_idx = scores[idx,:,0,:]\n",
    "original_onehot = test['inputs'][idx,:,0,:]\n",
    "scores_for_idx = original_onehot*scores_for_idx\n",
    "viz_sequence.plot_weights(scores_for_idx, subticks_frequency=10)"
   ]
  },
  {
   "cell_type": "code",
   "execution_count": null,
   "metadata": {},
   "outputs": [],
   "source": []
  }
 ],
 "metadata": {
  "kernelspec": {
   "display_name": "Python 3",
   "language": "python",
   "name": "python3"
  },
  "language_info": {
   "codemirror_mode": {
    "name": "ipython",
    "version": 3
   },
   "file_extension": ".py",
   "mimetype": "text/x-python",
   "name": "python",
   "nbconvert_exporter": "python",
   "pygments_lexer": "ipython3",
   "version": "3.7.3"
  }
 },
 "nbformat": 4,
 "nbformat_minor": 2
}
